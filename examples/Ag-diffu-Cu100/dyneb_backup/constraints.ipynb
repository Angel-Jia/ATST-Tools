{
 "cells": [
  {
   "cell_type": "code",
   "execution_count": 19,
   "metadata": {},
   "outputs": [],
   "source": [
    "import os \n",
    "from ase.calculators.abacus import AbacusProfile\n",
    "from ase.optimize import FIRE, BFGS, QuasiNewton\n",
    "from ase.io import read, write\n",
    "from ase.constraints import FixAtoms\n",
    "import numpy as np"
   ]
  },
  {
   "cell_type": "code",
   "execution_count": 2,
   "metadata": {},
   "outputs": [],
   "source": [
    "init = read('init/OUT.A/running_relax.log')"
   ]
  },
  {
   "cell_type": "code",
   "execution_count": 3,
   "metadata": {},
   "outputs": [
    {
     "data": {
      "text/plain": [
       "Atoms(symbols='Cu32Ag', pbc=True, cell=[7.22992, 7.22992, 20.0], momenta=..., calculator=SinglePointDFTCalculator(...))"
      ]
     },
     "execution_count": 3,
     "metadata": {},
     "output_type": "execute_result"
    }
   ],
   "source": [
    "init"
   ]
  },
  {
   "cell_type": "code",
   "execution_count": 14,
   "metadata": {},
   "outputs": [
    {
     "name": "stdout",
     "output_type": "stream",
     "text": [
      "0 Cu [0.90374 0.90374 0.90374] 0.90374\n",
      "1 Cu [0.90374 2.71122 2.71122] 2.71122\n",
      "2 Cu [2.71122 0.90374 2.71122] 2.71122\n",
      "3 Cu [2.71122 2.71122 0.90374] 0.90374\n",
      "4 Cu [4.5187  0.90374 0.90374] 0.90374\n",
      "5 Cu [4.5187  2.71122 2.71122] 2.71122\n",
      "6 Cu [6.32618 0.90374 2.71122] 2.71122\n",
      "7 Cu [6.32618 2.71122 0.90374] 0.90374\n",
      "8 Cu [0.90374 4.5187  0.90374] 0.90374\n",
      "9 Cu [0.90374 6.32618 2.71122] 2.71122\n",
      "10 Cu [2.71122 4.5187  2.71122] 2.71122\n",
      "11 Cu [2.71122 6.32618 0.90374] 0.90374\n",
      "12 Cu [4.5187  4.5187  0.90374] 0.90374\n",
      "13 Cu [4.5187  6.32618 2.71122] 2.71122\n",
      "14 Cu [6.32618 4.5187  2.71122] 2.71122\n",
      "15 Cu [6.32618 6.32618 0.90374] 0.90374\n",
      "16 Cu [0.9064223  0.90726097 4.493     ] 4.492999999999999\n",
      "17 Cu [0.85143876 2.71006321 6.2527    ] 6.2527\n",
      "18 Cu [2.70793762 0.85362219 6.25604   ] 6.2560400000000005\n",
      "19 Cu [2.71038133 2.71096695 4.49978   ] 4.4997799999999994\n",
      "20 Cu [4.5113544  0.90860574 4.49554   ] 4.49554\n",
      "21 Cu [4.56409667 2.70992584 6.26362   ] 6.2636199999999995\n",
      "22 Cu [6.32297715 0.88401678 6.24026   ] 6.240259999999999\n",
      "23 Cu [6.31947786 2.71148028 4.5029    ] 4.5029\n",
      "24 Cu [0.90689948 4.51325587 4.49398   ] 4.4939800000000005\n",
      "25 Cu [0.88281661 6.32500152 6.24046   ] 6.24046\n",
      "26 Cu [2.70781471 4.56629456 6.26038   ] 6.26038\n",
      "27 Cu [2.71169717 6.32363507 4.50284   ] 4.50284\n",
      "28 Cu [4.51073263 4.51181712 4.49662   ] 4.49662\n",
      "29 Cu [4.53534328 6.32493645 6.24072   ] 6.24072\n",
      "30 Cu [6.32289039 4.53668804 6.24036   ] 6.240360000000001\n",
      "31 Cu [6.3247774  6.32570283 4.48522   ] 4.48522\n",
      "32 Ag [2.70547944 2.70891366 8.08098   ] 8.08098\n"
     ]
    },
    {
     "data": {
      "text/plain": [
       "array([[0.125   , 0.125   , 0.045187],\n",
       "       [0.125   , 0.375   , 0.135561],\n",
       "       [0.375   , 0.125   , 0.135561],\n",
       "       [0.375   , 0.375   , 0.045187],\n",
       "       [0.625   , 0.125   , 0.045187],\n",
       "       [0.625   , 0.375   , 0.135561],\n",
       "       [0.875   , 0.125   , 0.135561],\n",
       "       [0.875   , 0.375   , 0.045187],\n",
       "       [0.125   , 0.625   , 0.045187],\n",
       "       [0.125   , 0.875   , 0.135561],\n",
       "       [0.375   , 0.625   , 0.135561],\n",
       "       [0.375   , 0.875   , 0.045187],\n",
       "       [0.625   , 0.625   , 0.045187],\n",
       "       [0.625   , 0.875   , 0.135561],\n",
       "       [0.875   , 0.625   , 0.135561],\n",
       "       [0.875   , 0.875   , 0.045187],\n",
       "       [0.125371, 0.125487, 0.22465 ],\n",
       "       [0.117766, 0.37484 , 0.312635],\n",
       "       [0.374546, 0.118068, 0.312802],\n",
       "       [0.374884, 0.374965, 0.224989],\n",
       "       [0.623984, 0.125673, 0.224777],\n",
       "       [0.631279, 0.374821, 0.313181],\n",
       "       [0.874557, 0.122272, 0.312013],\n",
       "       [0.874073, 0.375036, 0.225145],\n",
       "       [0.125437, 0.624247, 0.224699],\n",
       "       [0.122106, 0.874837, 0.312023],\n",
       "       [0.374529, 0.631583, 0.313019],\n",
       "       [0.375066, 0.874648, 0.225142],\n",
       "       [0.623898, 0.624048, 0.224831],\n",
       "       [0.627302, 0.874828, 0.312036],\n",
       "       [0.874545, 0.627488, 0.312018],\n",
       "       [0.874806, 0.874934, 0.224261],\n",
       "       [0.374206, 0.374681, 0.404049]])"
      ]
     },
     "execution_count": 14,
     "metadata": {},
     "output_type": "execute_result"
    }
   ],
   "source": [
    "for atom in init:\n",
    "    print(atom.index, atom.symbol, atom.position, atom.position[2],)\n",
    "init.get_scaled_positions()"
   ]
  },
  {
   "cell_type": "code",
   "execution_count": 10,
   "metadata": {},
   "outputs": [],
   "source": [
    "mask = [atom.position[2] < 0.2 for atom in init]\n",
    "fix = FixAtoms(mask=mask)\n",
    "init.set_constraint(fix)"
   ]
  },
  {
   "cell_type": "code",
   "execution_count": 11,
   "metadata": {},
   "outputs": [],
   "source": [
    "write('init/STRU_ase', init, format='abacus')"
   ]
  },
  {
   "cell_type": "code",
   "execution_count": 15,
   "metadata": {},
   "outputs": [],
   "source": [
    "final = read(\"final/STRU\", format='abacus')\n",
    "write('final/STRU_ase', final, format='abacus')"
   ]
  },
  {
   "cell_type": "code",
   "execution_count": 17,
   "metadata": {},
   "outputs": [
    {
     "ename": "AttributeError",
     "evalue": "'Atom' object has no attribute 'constraints'",
     "output_type": "error",
     "traceback": [
      "\u001b[0;31m---------------------------------------------------------------------------\u001b[0m",
      "\u001b[0;31mAttributeError\u001b[0m                            Traceback (most recent call last)",
      "\u001b[1;32m/home/james/abacus_kit/ase-neb-abacus/examples/Ag-diffu-Cu100/dyneb/constraints.ipynb 单元格 8\u001b[0m line \u001b[0;36m2\n\u001b[1;32m      <a href='vscode-notebook-cell://wsl%2Bubuntu-18.04/home/james/abacus_kit/ase-neb-abacus/examples/Ag-diffu-Cu100/dyneb/constraints.ipynb#X10sdnNjb2RlLXJlbW90ZQ%3D%3D?line=0'>1</a>\u001b[0m \u001b[39mfor\u001b[39;00m atom \u001b[39min\u001b[39;00m final:\n\u001b[0;32m----> <a href='vscode-notebook-cell://wsl%2Bubuntu-18.04/home/james/abacus_kit/ase-neb-abacus/examples/Ag-diffu-Cu100/dyneb/constraints.ipynb#X10sdnNjb2RlLXJlbW90ZQ%3D%3D?line=1'>2</a>\u001b[0m     \u001b[39mprint\u001b[39m(atom\u001b[39m.\u001b[39mindex, atom\u001b[39m.\u001b[39msymbol, atom\u001b[39m.\u001b[39mposition, atom\u001b[39m.\u001b[39mposition[\u001b[39m2\u001b[39m], atom\u001b[39m.\u001b[39;49mconstraints)\n\u001b[1;32m      <a href='vscode-notebook-cell://wsl%2Bubuntu-18.04/home/james/abacus_kit/ase-neb-abacus/examples/Ag-diffu-Cu100/dyneb/constraints.ipynb#X10sdnNjb2RlLXJlbW90ZQ%3D%3D?line=2'>3</a>\u001b[0m init\u001b[39m.\u001b[39mget_scaled_positions()\n",
      "\u001b[0;31mAttributeError\u001b[0m: 'Atom' object has no attribute 'constraints'"
     ]
    }
   ],
   "source": [
    "for atom in final:\n",
    "    print(atom.index, atom.symbol, atom.position, atom.position[2])\n",
    "init.get_scaled_positions()"
   ]
  },
  {
   "cell_type": "code",
   "execution_count": 24,
   "metadata": {},
   "outputs": [
    {
     "name": "stdout",
     "output_type": "stream",
     "text": [
      "[0.045187 0.135561 0.135561 0.045187 0.045187 0.135561 0.135561 0.045187\n",
      " 0.045187 0.135561 0.135561 0.045187 0.045187 0.135561 0.135561 0.045187\n",
      " 0.22465  0.312635 0.312802 0.224989 0.224777 0.313181 0.312013 0.225145\n",
      " 0.224699 0.312023 0.313019 0.225142 0.224831 0.312036 0.312018 0.224261\n",
      " 0.404049]\n",
      "[ True  True  True  True  True  True  True  True  True  True  True  True\n",
      "  True  True  True  True False False False False False False False False\n",
      " False False False False False False False False False]\n"
     ]
    }
   ],
   "source": [
    "print(init.get_scaled_positions()[:,2])\n",
    "print(init.get_scaled_positions()[:,2] < 0.20)"
   ]
  },
  {
   "cell_type": "code",
   "execution_count": 34,
   "metadata": {},
   "outputs": [],
   "source": [
    "mask = init.get_scaled_positions()[:,2] < 0.20"
   ]
  },
  {
   "cell_type": "code",
   "execution_count": 35,
   "metadata": {},
   "outputs": [],
   "source": [
    "#fix_indices = [atom.index for atom in init[init.get_scaled_positions()[:,2] < 0.20]]\n",
    "fix = FixAtoms(mask=mask)\n",
    "init.set_constraint(fix)"
   ]
  },
  {
   "cell_type": "code",
   "execution_count": 36,
   "metadata": {},
   "outputs": [
    {
     "data": {
      "text/plain": [
       "Atoms(symbols='Cu32Ag', pbc=True, cell=[7.22992, 7.22992, 20.0], momenta=..., constraint=FixAtoms(indices=[0, 1, 2, 3, 4, 5, 6, 7, 8, 9, 10, 11, 12, 13, 14, 15]), calculator=SinglePointDFTCalculator(...))"
      ]
     },
     "execution_count": 36,
     "metadata": {},
     "output_type": "execute_result"
    }
   ],
   "source": [
    "init"
   ]
  },
  {
   "cell_type": "code",
   "execution_count": 27,
   "metadata": {},
   "outputs": [],
   "source": [
    "write('init/STRU_ase', init, format='abacus')"
   ]
  }
 ],
 "metadata": {
  "kernelspec": {
   "display_name": "ase",
   "language": "python",
   "name": "python3"
  },
  "language_info": {
   "codemirror_mode": {
    "name": "ipython",
    "version": 3
   },
   "file_extension": ".py",
   "mimetype": "text/x-python",
   "name": "python",
   "nbconvert_exporter": "python",
   "pygments_lexer": "ipython3",
   "version": "3.11.5"
  },
  "orig_nbformat": 4
 },
 "nbformat": 4,
 "nbformat_minor": 2
}
